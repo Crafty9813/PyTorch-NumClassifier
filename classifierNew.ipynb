{
 "cells": [
  {
   "cell_type": "code",
   "execution_count": null,
   "id": "7d2b949b",
   "metadata": {},
   "outputs": [],
   "source": [
    "import torch\n",
    "\n",
    "from PIL import Image\n",
    "\n",
    "from torchvision import datasets\n",
    "from torch.utils.data import DataLoader\n",
    "from torchvision.transforms import ToTensor\n",
    "\n",
    "import torch.nn as nn\n",
    "import torch.functional as F\n",
    "import torch.optim as optim"
   ]
  },
  {
   "cell_type": "code",
   "execution_count": 13,
   "id": "cc313485",
   "metadata": {},
   "outputs": [
    {
     "name": "stdout",
     "output_type": "stream",
     "text": [
      "cpu\n"
     ]
    }
   ],
   "source": [
    "if torch.cuda.is_available():\n",
    "    device = torch.device('cuda')\n",
    "elif torch.backends.mps.is_available():\n",
    "    device = torch.device('mps')\n",
    "else:\n",
    "    device = torch.device('cpu')\n",
    "\n",
    "print(device)"
   ]
  },
  {
   "cell_type": "code",
   "execution_count": 2,
   "id": "0fa0095d",
   "metadata": {},
   "outputs": [],
   "source": [
    "train_data = datasets.MNIST(\n",
    "    root='data',\n",
    "    train = True,\n",
    "    transform=ToTensor(),\n",
    "    download=True\n",
    ")\n",
    "\n",
    "test_data = datasets.MNIST(\n",
    "    root='data',\n",
    "    train = False,\n",
    "    transform=ToTensor(),\n",
    "    download=True\n",
    ")"
   ]
  },
  {
   "cell_type": "code",
   "execution_count": 7,
   "id": "99ff09e0",
   "metadata": {},
   "outputs": [
    {
     "data": {
      "text/plain": [
       "torch.Size([10000, 28, 28])"
      ]
     },
     "execution_count": 7,
     "metadata": {},
     "output_type": "execute_result"
    }
   ],
   "source": [
    "test_data.data.shape"
   ]
  },
  {
   "cell_type": "markdown",
   "id": "f52c0ea5",
   "metadata": {},
   "source": [
    "#### Data Loader"
   ]
  },
  {
   "cell_type": "code",
   "execution_count": null,
   "id": "5766ca9a",
   "metadata": {},
   "outputs": [],
   "source": [
    "data_loader = {\n",
    "    'train': DataLoader('train_data', batch_size = 100, shuffle=True, num_workers=1),\n",
    "    'test': DataLoader('test_data', batch_size = 100, shuffle=True, num_workers=1)\n",
    "}"
   ]
  },
  {
   "cell_type": "markdown",
   "id": "7082104d",
   "metadata": {},
   "source": [
    "## <center>CNN Class</center>"
   ]
  },
  {
   "cell_type": "code",
   "execution_count": null,
   "id": "275a4e81",
   "metadata": {},
   "outputs": [],
   "source": [
    "class Net(nn.Module):\n",
    "\n",
    "    def __init__(self):\n",
    "        super(Net, self).__init__()\n",
    "\n",
    "        # MNIST: goes from 28x28 and since kernel is 3, px size decrease by 2\n",
    "        # So, use padding to keep features on edges\n",
    "        self.conv1 = nn.Conv2d(1, 16, kernel_size=3, padding=1) \n",
    "        self.conv2 = nn.Conv2d(16, 32, kernel_size=3, padding=1)\n",
    "        self.conv3 = nn.Conv2d(32, 64, kernel_size=3, padding=1)\n",
    "\n",
    "\n",
    "        self.pool = nn.MaxPool2d(2, 2) # Reduce size by 2x\n",
    "        self.dropout = nn.Dropout2d(0.25) # Disable 1/4 neurons for less overfitting\n",
    "\n",
    "        self.fc1 = nn.Linear(64 * 3 * 3, 128)\n",
    "        self.fc2 = nn.Linear(128, 10)  # 10 classes for MNIST digits\n",
    "\n",
    "\n",
    "    def forward(self, x):\n",
    "        x = self.pool(F.relu(self.conv1(x)))  # -> 16 x 14 x 14\n",
    "        x = self.pool(F.relu(self.conv2(x)))  # -> 32 x 7 x 7\n",
    "        x = self.pool(F.relu(self.conv3(x)))  # -> 64 x 3 x 3\n",
    "\n",
    "        x = self.dropout(x)\n",
    "        x = x.view(x.size(0), -1) #Flatten\n",
    "\n",
    "        x = F.relu(self.fc1(x))\n",
    "        x = self.dropout(x)\n",
    "        x = self.fc2(x)\n",
    "\n",
    "        return x\n",
    "    "
   ]
  },
  {
   "cell_type": "markdown",
   "id": "7a7bcaf0",
   "metadata": {},
   "source": [
    "### Creating the Actual Model & Training Loop"
   ]
  },
  {
   "cell_type": "code",
   "execution_count": 20,
   "id": "c0c6ed6f",
   "metadata": {},
   "outputs": [],
   "source": [
    "model = Net().to(device)\n",
    "optimizer = optim.Adam(model.parameters(), lr = 0.001)\n",
    "loss_func = nn.CrossEntropyLoss() # Has softmax built in, no need to use softmax before CEL\n",
    "\n",
    "# ------TRAINING LOOP------- :D\n",
    "def train(num_epochs):\n",
    "\n",
    "    model.train()\n",
    "\n",
    "    for epoch in range(num_epochs):\n",
    "        total_loss = 0\n",
    "\n",
    "        for batch_idx, (data, target) in enumerate(data_loader['train']):\n",
    "            data, target = data.to(device), target.to(device)\n",
    "            optimizer.zero_grad()\n",
    "            output = model(data)\n",
    "\n",
    "            # CROSS ENTROPY LOSS ^^^\n",
    "            loss = loss_func(output, target)\n",
    "            \n",
    "            loss.backward()\n",
    "            optimizer.step()\n",
    "\n",
    "            total_loss+=loss.item()\n",
    "\n",
    "            print(f\"Epoch [{epoch+1}/{num_epochs}], Loss: {total_loss:.4f}\")\n"
   ]
  },
  {
   "cell_type": "markdown",
   "id": "72550915",
   "metadata": {},
   "source": [
    "#### <center>TRAINING THE MODEL</center>"
   ]
  },
  {
   "cell_type": "code",
   "execution_count": null,
   "id": "cda9ea0c",
   "metadata": {},
   "outputs": [],
   "source": [
    "train(num_epochs=10)"
   ]
  },
  {
   "cell_type": "markdown",
   "id": "4670ecff",
   "metadata": {},
   "source": [
    "#### Save the trained modle"
   ]
  },
  {
   "cell_type": "code",
   "execution_count": null,
   "id": "93641ae6",
   "metadata": {},
   "outputs": [],
   "source": [
    "torch.save(model.state_dict(), 'model.pth')"
   ]
  }
 ],
 "metadata": {
  "kernelspec": {
   "display_name": ".venv",
   "language": "python",
   "name": "python3"
  },
  "language_info": {
   "codemirror_mode": {
    "name": "ipython",
    "version": 3
   },
   "file_extension": ".py",
   "mimetype": "text/x-python",
   "name": "python",
   "nbconvert_exporter": "python",
   "pygments_lexer": "ipython3",
   "version": "3.9.6"
  }
 },
 "nbformat": 4,
 "nbformat_minor": 5
}
