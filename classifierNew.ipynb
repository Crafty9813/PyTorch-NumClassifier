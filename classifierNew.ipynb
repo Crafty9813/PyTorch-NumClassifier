{
 "cells": [
  {
   "cell_type": "code",
   "execution_count": 37,
   "id": "7d2b949b",
   "metadata": {},
   "outputs": [],
   "source": [
    "import torch\n",
    "\n",
    "from torchvision import datasets\n",
    "from torch.utils.data import DataLoader\n",
    "from torchvision.transforms import ToTensor\n",
    "\n",
    "import torch.nn as nn\n",
    "import torch.nn.functional as F\n",
    "import torch.optim as optim"
   ]
  },
  {
   "cell_type": "markdown",
   "id": "f3d496b1",
   "metadata": {},
   "source": [
    "#### <center>Device</center>"
   ]
  },
  {
   "cell_type": "code",
   "execution_count": null,
   "id": "cc313485",
   "metadata": {},
   "outputs": [
    {
     "name": "stdout",
     "output_type": "stream",
     "text": [
      "cpu\n"
     ]
    }
   ],
   "source": [
    "if torch.cuda.is_available():\n",
    "    device = torch.device('cuda')\n",
    "elif torch.backends.mps.is_available():\n",
    "    device = torch.device('mps')\n",
    "else:\n",
    "    device = torch.device('cpu')\n",
    "\n",
    "print(device)"
   ]
  },
  {
   "cell_type": "markdown",
   "id": "031b8b8d",
   "metadata": {},
   "source": [
    "### <center> Download the training and testing datasets </center>"
   ]
  },
  {
   "cell_type": "code",
   "execution_count": null,
   "id": "0fa0095d",
   "metadata": {},
   "outputs": [],
   "source": [
    "train_data = datasets.MNIST(\n",
    "    root='data',\n",
    "    train = True,\n",
    "    transform=ToTensor(),\n",
    "    download=True\n",
    ")\n",
    "\n",
    "test_data = datasets.MNIST(\n",
    "    root='data',\n",
    "    train = False,\n",
    "    transform=ToTensor(),\n",
    "    download=True\n",
    ")"
   ]
  },
  {
   "cell_type": "code",
   "execution_count": 47,
   "id": "99ff09e0",
   "metadata": {},
   "outputs": [
    {
     "data": {
      "text/plain": [
       "torch.Size([10000, 28, 28])"
      ]
     },
     "execution_count": 47,
     "metadata": {},
     "output_type": "execute_result"
    }
   ],
   "source": [
    "test_data.data.shape\n",
    "#train_data.data.shape"
   ]
  },
  {
   "cell_type": "markdown",
   "id": "f52c0ea5",
   "metadata": {},
   "source": [
    "#### Data Loader"
   ]
  },
  {
   "cell_type": "code",
   "execution_count": 39,
   "id": "5766ca9a",
   "metadata": {},
   "outputs": [],
   "source": [
    "data_loader = {\n",
    "    'train': DataLoader(train_data, batch_size = 100, shuffle=True),\n",
    "    'test': DataLoader(test_data, batch_size = 100, shuffle=True)\n",
    "}"
   ]
  },
  {
   "cell_type": "markdown",
   "id": "7082104d",
   "metadata": {},
   "source": [
    "## <center>CNN Class</center>"
   ]
  },
  {
   "cell_type": "code",
   "execution_count": 40,
   "id": "275a4e81",
   "metadata": {},
   "outputs": [],
   "source": [
    "class Net(nn.Module):\n",
    "\n",
    "    def __init__(self):\n",
    "        super(Net, self).__init__()\n",
    "\n",
    "        self.conv_layers = nn.Sequential (\n",
    "            nn.Conv2d(1, 16, kernel_size=3, padding=1),  # -> 16x28x28\n",
    "            nn.ReLU(),\n",
    "            nn.MaxPool2d(2, 2),                          # -> 16x14x14\n",
    "\n",
    "            nn.Conv2d(16, 32, kernel_size=3, padding=1), # -> 32x14x14\n",
    "            nn.ReLU(),\n",
    "            nn.MaxPool2d(2, 2),                          # -> 32x7x7\n",
    "\n",
    "            nn.Conv2d(32, 64, kernel_size=3, padding=1), # -> 64x7x7\n",
    "            nn.ReLU(),\n",
    "            nn.MaxPool2d(2, 2),                          # -> 64x3x3\n",
    "        )\n",
    "\n",
    "        # Dropout layers, disable 1/4 neurons or feature maps for less overfitting\n",
    "        self.dropout2d = nn.Dropout2d(0.25) # conv_layers\n",
    "        self.dropout = nn.Dropout(0.25) # fcl layers\n",
    "\n",
    "        self.fc1 = nn.Linear(64 * 3 * 3, 128)\n",
    "        self.fc2 = nn.Linear(128, 10)  # 10 classes for MNIST digits\n",
    "\n",
    "    \n",
    "    def forward(self, x):\n",
    "        x = self.conv_layers(x) # Conv layers\n",
    "        x = self.dropout2d(x)\n",
    "\n",
    "        x = x.flatten(start_dim = 1) # Flatten to 1D tensor so if 28x28 -> 1D tensor of 784\n",
    "        x = F.relu(self.fc1(x))\n",
    "\n",
    "        x = self.dropout(x)\n",
    "        x = self.fc2(x)\n",
    "        return x\n",
    "    "
   ]
  },
  {
   "cell_type": "markdown",
   "id": "7a7bcaf0",
   "metadata": {},
   "source": [
    "### Creating the Actual Model & Training Loop"
   ]
  },
  {
   "cell_type": "code",
   "execution_count": null,
   "id": "c0c6ed6f",
   "metadata": {},
   "outputs": [],
   "source": [
    "model = Net().to(device)\n",
    "\n",
    "optimizer = optim.Adam(model.parameters(), lr = 0.001)\n",
    "#optimizer = optim.SGD(model.parameters(), lr = 0.001)\n",
    "\n",
    "# \"log loss\"\n",
    "loss_func = nn.CrossEntropyLoss() # Has softmax built in, no need to use softmax before CEL"
   ]
  },
  {
   "cell_type": "code",
   "execution_count": 42,
   "id": "4f48c8dd",
   "metadata": {},
   "outputs": [],
   "source": [
    "# ------TRAINING LOOP------- :D\n",
    "def train(num_epochs):\n",
    "\n",
    "    model.train()\n",
    "\n",
    "    for epoch in range(num_epochs):\n",
    "        total_loss = 0\n",
    "\n",
    "        for batch_idx, (data, target) in enumerate(data_loader['train']):\n",
    "            data, target = data.to(device), target.to(device)\n",
    "\n",
    "            optimizer.zero_grad() # Clear old gradients\n",
    "            output = model(data) # Compute predictions\n",
    "\n",
    "            # CROSS ENTROPY LOSS ^^^\n",
    "            loss = loss_func(output, target)\n",
    "            loss.backward() # Backprop for gradients\n",
    "            \n",
    "            optimizer.step() # Update weights based on gradients\n",
    "\n",
    "            total_loss+=loss.item()\n",
    "\n",
    "        # Avg loss per batch (totalLoss/numBatches)\n",
    "        print(f\"Epoch [{epoch+1}/{num_epochs}], Loss: {total_loss / len(data_loader['train']):.2f}\")\n"
   ]
  },
  {
   "cell_type": "markdown",
   "id": "72550915",
   "metadata": {},
   "source": [
    "#### <center>TRAINING THE MODEL</center>"
   ]
  },
  {
   "cell_type": "code",
   "execution_count": 43,
   "id": "cda9ea0c",
   "metadata": {},
   "outputs": [
    {
     "name": "stdout",
     "output_type": "stream",
     "text": [
      "Epoch [1/15], Loss: 0.33\n",
      "Epoch [2/15], Loss: 0.10\n",
      "Epoch [3/15], Loss: 0.07\n",
      "Epoch [4/15], Loss: 0.06\n",
      "Epoch [5/15], Loss: 0.05\n",
      "Epoch [6/15], Loss: 0.04\n",
      "Epoch [7/15], Loss: 0.04\n",
      "Epoch [8/15], Loss: 0.03\n",
      "Epoch [9/15], Loss: 0.03\n",
      "Epoch [10/15], Loss: 0.03\n",
      "Epoch [11/15], Loss: 0.03\n",
      "Epoch [12/15], Loss: 0.02\n",
      "Epoch [13/15], Loss: 0.02\n",
      "Epoch [14/15], Loss: 0.02\n",
      "Epoch [15/15], Loss: 0.02\n"
     ]
    }
   ],
   "source": [
    "train(num_epochs=15)"
   ]
  },
  {
   "cell_type": "markdown",
   "id": "de95dc2c",
   "metadata": {},
   "source": [
    "### <center>Visualizing predictions!</center>"
   ]
  },
  {
   "cell_type": "code",
   "execution_count": 34,
   "id": "d12c7496",
   "metadata": {},
   "outputs": [],
   "source": [
    "import matplotlib.pyplot as plt\n",
    "\n",
    "def show_pred(model, dataloader, device, num_images):\n",
    "    model.eval()\n",
    "\n",
    "    with torch.no_grad():\n",
    "        for images, labels in dataloader:\n",
    "            images, labels = images.to(device), labels.to(device)\n",
    "            outputs = model(images) # logits/raw output\n",
    "\n",
    "            preds = outputs.argmax(dim = 1)\n",
    "\n",
    "            fig, axes = plt.subplots(1, num_images, figsize=(num_images * 2.5, 3))\n",
    "\n",
    "            for i in range(num_images):\n",
    "                img = images[i].cpu().squeeze() # Removes channel dim -> 28x28\n",
    "\n",
    "                ax = axes[i]\n",
    "                ax.imshow(img, cmap = 'gray')\n",
    "                \n",
    "                # Mark incorrect predictions w/ color red for easier identification\n",
    "                plot_color = 'red' if preds[i] != labels[i] else 'black'\n",
    "\n",
    "                ax.set_title(f'Prediction: {preds[i].item()} \\n Actual: {labels[i].item()}', color = plot_color)\n",
    "                ax.axis('off')\n",
    "\n",
    "            break\n",
    "\n",
    "plt.show()\n"
   ]
  },
  {
   "cell_type": "code",
   "execution_count": 50,
   "id": "0deeda6d",
   "metadata": {},
   "outputs": [
    {
     "data": {
      "image/png": "[encoded data removed]",
      "text/plain": [
       "<Figure size 2500x300 with 10 Axes>"
      ]
     },
     "metadata": {},
     "output_type": "display_data"
    }
   ],
   "source": [
    "show_pred(model, data_loader['test'], device, 10)"
   ]
  },
  {
   "cell_type": "markdown",
   "id": "b45b99af",
   "metadata": {},
   "source": []
  }
 ],
 "metadata": {
  "kernelspec": {
   "display_name": ".venv",
   "language": "python",
   "name": "python3"
  },
  "language_info": {
   "codemirror_mode": {
    "name": "ipython",
    "version": 3
   },
   "file_extension": ".py",
   "mimetype": "text/x-python",
   "name": "python",
   "nbconvert_exporter": "python",
   "pygments_lexer": "ipython3",
   "version": "3.12.4"
  }
 },
 "nbformat": 4,
 "nbformat_minor": 5
}
